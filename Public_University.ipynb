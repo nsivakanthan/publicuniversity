{
  "nbformat": 4,
  "nbformat_minor": 0,
  "metadata": {
    "colab": {
      "name": "Public University.ipynb",
      "provenance": [],
      "collapsed_sections": []
    },
    "kernelspec": {
      "name": "python3",
      "display_name": "Python 3"
    },
    "language_info": {
      "name": "python"
    }
  },
  "cells": [
    {
      "cell_type": "code",
      "metadata": {
        "id": "T1MSG31v-9HI"
      },
      "source": [
        "#Import pandas, numpy, and matplotlib\n",
        "import pandas as pd\n",
        "import numpy as np\n",
        "import matplotlib.pyplot as plt\n",
        "\n",
        "#seaborn is a data visualization library built on matplotlib\n",
        "import seaborn as sns \n",
        "#set the plotting style \n",
        "sns.set_style(\"whitegrid\")"
      ],
      "execution_count": null,
      "outputs": []
    },
    {
      "cell_type": "code",
      "metadata": {
        "id": "r7os8d4VAO0x"
      },
      "source": [
        "cost = pd.read_csv('/content/drive/MyDrive/Colab Notebooks/Public University Expenditures.csv')\n",
        "\n",
        "tuition = pd.read_csv('/content/drive/MyDrive/Colab Notebooks/Public University Tuition.csv')"
      ],
      "execution_count": null,
      "outputs": []
    },
    {
      "cell_type": "code",
      "metadata": {
        "colab": {
          "base_uri": "https://localhost:8080/",
          "height": 206
        },
        "id": "56oSk5LVK8Aq",
        "outputId": "575cef46-2097-4a8a-be9a-e865de4b0570"
      },
      "source": [
        "tuition.head()"
      ],
      "execution_count": null,
      "outputs": [
        {
          "output_type": "execute_result",
          "data": {
            "text/html": [
              "<div>\n",
              "<style scoped>\n",
              "    .dataframe tbody tr th:only-of-type {\n",
              "        vertical-align: middle;\n",
              "    }\n",
              "\n",
              "    .dataframe tbody tr th {\n",
              "        vertical-align: top;\n",
              "    }\n",
              "\n",
              "    .dataframe thead th {\n",
              "        text-align: right;\n",
              "    }\n",
              "</style>\n",
              "<table border=\"1\" class=\"dataframe\">\n",
              "  <thead>\n",
              "    <tr style=\"text-align: right;\">\n",
              "      <th></th>\n",
              "      <th>Year</th>\n",
              "      <th>Total tuition, fees, room, and board</th>\n",
              "    </tr>\n",
              "  </thead>\n",
              "  <tbody>\n",
              "    <tr>\n",
              "      <th>0</th>\n",
              "      <td>1968</td>\n",
              "      <td>8115.818143</td>\n",
              "    </tr>\n",
              "    <tr>\n",
              "      <th>1</th>\n",
              "      <td>1969</td>\n",
              "      <td>8299.752223</td>\n",
              "    </tr>\n",
              "    <tr>\n",
              "      <th>2</th>\n",
              "      <td>1970</td>\n",
              "      <td>8453.404657</td>\n",
              "    </tr>\n",
              "    <tr>\n",
              "      <th>3</th>\n",
              "      <td>1971</td>\n",
              "      <td>8646.172477</td>\n",
              "    </tr>\n",
              "    <tr>\n",
              "      <th>4</th>\n",
              "      <td>1972</td>\n",
              "      <td>9190.799802</td>\n",
              "    </tr>\n",
              "  </tbody>\n",
              "</table>\n",
              "</div>"
            ],
            "text/plain": [
              "   Year  Total tuition, fees, room, and board\n",
              "0  1968                           8115.818143\n",
              "1  1969                           8299.752223\n",
              "2  1970                           8453.404657\n",
              "3  1971                           8646.172477\n",
              "4  1972                           9190.799802"
            ]
          },
          "metadata": {},
          "execution_count": 3
        }
      ]
    },
    {
      "cell_type": "code",
      "metadata": {
        "colab": {
          "base_uri": "https://localhost:8080/",
          "height": 610
        },
        "id": "_gLrJjDyGE-v",
        "outputId": "01262f9c-5a22-4a97-b6df-8a5beb797cfe"
      },
      "source": [
        "plt.figure(figsize = (10,10))\n",
        "sns.lineplot(data= tuition, x=\"Year\", y=\"Total tuition, fees, room, and board\")\n",
        "plt.ylabel('Tuition, fees, room, & board',fontsize = 14)\n",
        "plt.xlabel('Year', fontsize = 14)\n",
        "plt.xticks(np.arange(1970, 2018+1, 5.0));"
      ],
      "execution_count": null,
      "outputs": [
        {
          "output_type": "display_data",
          "data": {
            "image/png": "[encoded data removed]",
            "text/plain": [
              "<Figure size 720x720 with 1 Axes>"
            ]
          },
          "metadata": {
            "needs_background": "light"
          }
        }
      ]
    },
    {
      "cell_type": "markdown",
      "metadata": {
        "id": "y2iDDUn7pSUU"
      },
      "source": [
        "We can see tuition per student increasing consistently starting in 1980."
      ]
    },
    {
      "cell_type": "markdown",
      "metadata": {
        "id": "scBXP_rKCZnx"
      },
      "source": [
        "## **Cleaning**"
      ]
    },
    {
      "cell_type": "code",
      "metadata": {
        "colab": {
          "base_uri": "https://localhost:8080/",
          "height": 349
        },
        "id": "KIlU6xsHAaZA",
        "outputId": "bcfcea00-fd33-4999-c73c-9f933c87586e"
      },
      "source": [
        "cost"
      ],
      "execution_count": null,
      "outputs": [
        {
          "output_type": "execute_result",
          "data": {
            "text/html": [
              "<div>\n",
              "<style scoped>\n",
              "    .dataframe tbody tr th:only-of-type {\n",
              "        vertical-align: middle;\n",
              "    }\n",
              "\n",
              "    .dataframe tbody tr th {\n",
              "        vertical-align: top;\n",
              "    }\n",
              "\n",
              "    .dataframe thead th {\n",
              "        text-align: right;\n",
              "    }\n",
              "</style>\n",
              "<table border=\"1\" class=\"dataframe\">\n",
              "  <thead>\n",
              "    <tr style=\"text-align: right;\">\n",
              "      <th></th>\n",
              "      <th>Year</th>\n",
              "      <th>Total</th>\n",
              "      <th>Total instruction</th>\n",
              "      <th>Salaries and wages</th>\n",
              "      <th>Research</th>\n",
              "      <th>Public Service</th>\n",
              "      <th>Academic Support</th>\n",
              "      <th>Student Services</th>\n",
              "      <th>Institutional Support</th>\n",
              "      <th>Auxilary Enterprises</th>\n",
              "      <th>Net Aid Grant to students</th>\n",
              "      <th>Hospital services</th>\n",
              "      <th>Independent operations</th>\n",
              "      <th>Other</th>\n",
              "    </tr>\n",
              "  </thead>\n",
              "  <tbody>\n",
              "    <tr>\n",
              "      <th>0</th>\n",
              "      <td>2010</td>\n",
              "      <td>42534.39555</td>\n",
              "      <td>12365.27665</td>\n",
              "      <td>7087.116549</td>\n",
              "      <td>5933.690673</td>\n",
              "      <td>2191.148307</td>\n",
              "      <td>3337.843705</td>\n",
              "      <td>1914.322457</td>\n",
              "      <td>3640.012653</td>\n",
              "      <td>4358.256399</td>\n",
              "      <td>1768.918543</td>\n",
              "      <td>5256.614341</td>\n",
              "      <td>216.232577</td>\n",
              "      <td>1552.079246</td>\n",
              "    </tr>\n",
              "    <tr>\n",
              "      <th>1</th>\n",
              "      <td>2011</td>\n",
              "      <td>42218.76076</td>\n",
              "      <td>12162.24179</td>\n",
              "      <td>6938.254204</td>\n",
              "      <td>5750.641012</td>\n",
              "      <td>2120.860086</td>\n",
              "      <td>3398.442800</td>\n",
              "      <td>1938.440336</td>\n",
              "      <td>3532.145071</td>\n",
              "      <td>4317.382798</td>\n",
              "      <td>1634.458499</td>\n",
              "      <td>5549.817262</td>\n",
              "      <td>217.793695</td>\n",
              "      <td>1596.537409</td>\n",
              "    </tr>\n",
              "    <tr>\n",
              "      <th>2</th>\n",
              "      <td>2012</td>\n",
              "      <td>42334.57522</td>\n",
              "      <td>12301.23620</td>\n",
              "      <td>6991.999342</td>\n",
              "      <td>5689.484392</td>\n",
              "      <td>2072.553114</td>\n",
              "      <td>3476.653669</td>\n",
              "      <td>1991.271594</td>\n",
              "      <td>3641.152796</td>\n",
              "      <td>4328.947878</td>\n",
              "      <td>1614.671784</td>\n",
              "      <td>5623.033049</td>\n",
              "      <td>217.020275</td>\n",
              "      <td>1378.550473</td>\n",
              "    </tr>\n",
              "    <tr>\n",
              "      <th>3</th>\n",
              "      <td>2013</td>\n",
              "      <td>43505.50404</td>\n",
              "      <td>12603.54772</td>\n",
              "      <td>7184.647679</td>\n",
              "      <td>5542.571730</td>\n",
              "      <td>2102.495353</td>\n",
              "      <td>3593.650978</td>\n",
              "      <td>2093.008087</td>\n",
              "      <td>3791.571129</td>\n",
              "      <td>4428.313292</td>\n",
              "      <td>1598.300614</td>\n",
              "      <td>5959.116793</td>\n",
              "      <td>243.811696</td>\n",
              "      <td>1549.116647</td>\n",
              "    </tr>\n",
              "    <tr>\n",
              "      <th>4</th>\n",
              "      <td>2014</td>\n",
              "      <td>44343.93498</td>\n",
              "      <td>12908.55763</td>\n",
              "      <td>7295.118055</td>\n",
              "      <td>5545.552308</td>\n",
              "      <td>2090.634233</td>\n",
              "      <td>3706.646036</td>\n",
              "      <td>2144.011904</td>\n",
              "      <td>3830.575125</td>\n",
              "      <td>4501.244730</td>\n",
              "      <td>1585.960708</td>\n",
              "      <td>6290.136323</td>\n",
              "      <td>252.815432</td>\n",
              "      <td>1487.800555</td>\n",
              "    </tr>\n",
              "    <tr>\n",
              "      <th>5</th>\n",
              "      <td>2015</td>\n",
              "      <td>46661.93077</td>\n",
              "      <td>13314.27310</td>\n",
              "      <td>7553.614477</td>\n",
              "      <td>5591.380501</td>\n",
              "      <td>2161.390339</td>\n",
              "      <td>3863.880599</td>\n",
              "      <td>2237.963544</td>\n",
              "      <td>3968.412053</td>\n",
              "      <td>4524.725117</td>\n",
              "      <td>1611.317925</td>\n",
              "      <td>6978.026015</td>\n",
              "      <td>261.554918</td>\n",
              "      <td>2149.006662</td>\n",
              "    </tr>\n",
              "    <tr>\n",
              "      <th>6</th>\n",
              "      <td>2016</td>\n",
              "      <td>46620.58147</td>\n",
              "      <td>13114.91216</td>\n",
              "      <td>7482.043715</td>\n",
              "      <td>5479.183446</td>\n",
              "      <td>2165.039906</td>\n",
              "      <td>3871.387729</td>\n",
              "      <td>2235.173697</td>\n",
              "      <td>3917.902430</td>\n",
              "      <td>4554.903891</td>\n",
              "      <td>1560.678323</td>\n",
              "      <td>7193.624950</td>\n",
              "      <td>251.421308</td>\n",
              "      <td>2276.353634</td>\n",
              "    </tr>\n",
              "    <tr>\n",
              "      <th>7</th>\n",
              "      <td>2017</td>\n",
              "      <td>47216.48974</td>\n",
              "      <td>12759.38271</td>\n",
              "      <td>7408.570547</td>\n",
              "      <td>5453.340064</td>\n",
              "      <td>2120.997213</td>\n",
              "      <td>3849.949904</td>\n",
              "      <td>2217.479353</td>\n",
              "      <td>3805.421472</td>\n",
              "      <td>4497.116804</td>\n",
              "      <td>1600.006767</td>\n",
              "      <td>7168.408346</td>\n",
              "      <td>248.432488</td>\n",
              "      <td>3495.954616</td>\n",
              "    </tr>\n",
              "    <tr>\n",
              "      <th>8</th>\n",
              "      <td>2018</td>\n",
              "      <td>47892.48297</td>\n",
              "      <td>12748.15718</td>\n",
              "      <td>7471.115538</td>\n",
              "      <td>5522.090050</td>\n",
              "      <td>2081.696907</td>\n",
              "      <td>3838.324455</td>\n",
              "      <td>2256.429492</td>\n",
              "      <td>3794.367884</td>\n",
              "      <td>4448.039666</td>\n",
              "      <td>1616.540280</td>\n",
              "      <td>7561.403072</td>\n",
              "      <td>234.859131</td>\n",
              "      <td>3790.574861</td>\n",
              "    </tr>\n",
              "  </tbody>\n",
              "</table>\n",
              "</div>"
            ],
            "text/plain": [
              "   Year        Total  ...  Independent operations        Other\n",
              "0  2010  42534.39555  ...              216.232577  1552.079246\n",
              "1  2011  42218.76076  ...              217.793695  1596.537409\n",
              "2  2012  42334.57522  ...              217.020275  1378.550473\n",
              "3  2013  43505.50404  ...              243.811696  1549.116647\n",
              "4  2014  44343.93498  ...              252.815432  1487.800555\n",
              "5  2015  46661.93077  ...              261.554918  2149.006662\n",
              "6  2016  46620.58147  ...              251.421308  2276.353634\n",
              "7  2017  47216.48974  ...              248.432488  3495.954616\n",
              "8  2018  47892.48297  ...              234.859131  3790.574861\n",
              "\n",
              "[9 rows x 14 columns]"
            ]
          },
          "metadata": {},
          "execution_count": 6
        }
      ]
    },
    {
      "cell_type": "code",
      "metadata": {
        "id": "EYsllk2eEC8K"
      },
      "source": [
        "cost1 = cost.diff(-1).apply(lambda x: x*-1)"
      ],
      "execution_count": null,
      "outputs": []
    },
    {
      "cell_type": "code",
      "metadata": {
        "colab": {
          "base_uri": "https://localhost:8080/",
          "height": 349
        },
        "id": "oCvTvv94IJtf",
        "outputId": "eb37033b-eab3-4863-baa8-be1b776e105c"
      },
      "source": [
        "cost1"
      ],
      "execution_count": null,
      "outputs": [
        {
          "output_type": "execute_result",
          "data": {
            "text/html": [
              "<div>\n",
              "<style scoped>\n",
              "    .dataframe tbody tr th:only-of-type {\n",
              "        vertical-align: middle;\n",
              "    }\n",
              "\n",
              "    .dataframe tbody tr th {\n",
              "        vertical-align: top;\n",
              "    }\n",
              "\n",
              "    .dataframe thead th {\n",
              "        text-align: right;\n",
              "    }\n",
              "</style>\n",
              "<table border=\"1\" class=\"dataframe\">\n",
              "  <thead>\n",
              "    <tr style=\"text-align: right;\">\n",
              "      <th></th>\n",
              "      <th>Year</th>\n",
              "      <th>Total</th>\n",
              "      <th>Total instruction</th>\n",
              "      <th>Salaries and wages</th>\n",
              "      <th>Research</th>\n",
              "      <th>Public Service</th>\n",
              "      <th>Academic Support</th>\n",
              "      <th>Student Services</th>\n",
              "      <th>Institutional Support</th>\n",
              "      <th>Auxilary Enterprises</th>\n",
              "      <th>Net Aid Grant to students</th>\n",
              "      <th>Hospital services</th>\n",
              "      <th>Independent operations</th>\n",
              "      <th>Other</th>\n",
              "    </tr>\n",
              "  </thead>\n",
              "  <tbody>\n",
              "    <tr>\n",
              "      <th>0</th>\n",
              "      <td>1.0</td>\n",
              "      <td>-315.63479</td>\n",
              "      <td>-203.03486</td>\n",
              "      <td>-148.862345</td>\n",
              "      <td>-183.049661</td>\n",
              "      <td>-70.288221</td>\n",
              "      <td>60.599095</td>\n",
              "      <td>24.117879</td>\n",
              "      <td>-107.867582</td>\n",
              "      <td>-40.873601</td>\n",
              "      <td>-134.460044</td>\n",
              "      <td>293.202921</td>\n",
              "      <td>1.561118</td>\n",
              "      <td>44.458163</td>\n",
              "    </tr>\n",
              "    <tr>\n",
              "      <th>1</th>\n",
              "      <td>1.0</td>\n",
              "      <td>115.81446</td>\n",
              "      <td>138.99441</td>\n",
              "      <td>53.745138</td>\n",
              "      <td>-61.156620</td>\n",
              "      <td>-48.306972</td>\n",
              "      <td>78.210869</td>\n",
              "      <td>52.831258</td>\n",
              "      <td>109.007725</td>\n",
              "      <td>11.565080</td>\n",
              "      <td>-19.786715</td>\n",
              "      <td>73.215787</td>\n",
              "      <td>-0.773420</td>\n",
              "      <td>-217.986936</td>\n",
              "    </tr>\n",
              "    <tr>\n",
              "      <th>2</th>\n",
              "      <td>1.0</td>\n",
              "      <td>1170.92882</td>\n",
              "      <td>302.31152</td>\n",
              "      <td>192.648337</td>\n",
              "      <td>-146.912662</td>\n",
              "      <td>29.942239</td>\n",
              "      <td>116.997309</td>\n",
              "      <td>101.736493</td>\n",
              "      <td>150.418333</td>\n",
              "      <td>99.365414</td>\n",
              "      <td>-16.371170</td>\n",
              "      <td>336.083744</td>\n",
              "      <td>26.791421</td>\n",
              "      <td>170.566174</td>\n",
              "    </tr>\n",
              "    <tr>\n",
              "      <th>3</th>\n",
              "      <td>1.0</td>\n",
              "      <td>838.43094</td>\n",
              "      <td>305.00991</td>\n",
              "      <td>110.470376</td>\n",
              "      <td>2.980578</td>\n",
              "      <td>-11.861120</td>\n",
              "      <td>112.995058</td>\n",
              "      <td>51.003817</td>\n",
              "      <td>39.003996</td>\n",
              "      <td>72.931438</td>\n",
              "      <td>-12.339906</td>\n",
              "      <td>331.019530</td>\n",
              "      <td>9.003737</td>\n",
              "      <td>-61.316092</td>\n",
              "    </tr>\n",
              "    <tr>\n",
              "      <th>4</th>\n",
              "      <td>1.0</td>\n",
              "      <td>2317.99579</td>\n",
              "      <td>405.71547</td>\n",
              "      <td>258.496422</td>\n",
              "      <td>45.828193</td>\n",
              "      <td>70.756106</td>\n",
              "      <td>157.234563</td>\n",
              "      <td>93.951640</td>\n",
              "      <td>137.836928</td>\n",
              "      <td>23.480387</td>\n",
              "      <td>25.357217</td>\n",
              "      <td>687.889692</td>\n",
              "      <td>8.739486</td>\n",
              "      <td>661.206107</td>\n",
              "    </tr>\n",
              "    <tr>\n",
              "      <th>5</th>\n",
              "      <td>1.0</td>\n",
              "      <td>-41.34930</td>\n",
              "      <td>-199.36094</td>\n",
              "      <td>-71.570762</td>\n",
              "      <td>-112.197055</td>\n",
              "      <td>3.649567</td>\n",
              "      <td>7.507130</td>\n",
              "      <td>-2.789847</td>\n",
              "      <td>-50.509623</td>\n",
              "      <td>30.178774</td>\n",
              "      <td>-50.639602</td>\n",
              "      <td>215.598935</td>\n",
              "      <td>-10.133610</td>\n",
              "      <td>127.346972</td>\n",
              "    </tr>\n",
              "    <tr>\n",
              "      <th>6</th>\n",
              "      <td>1.0</td>\n",
              "      <td>595.90827</td>\n",
              "      <td>-355.52945</td>\n",
              "      <td>-73.473168</td>\n",
              "      <td>-25.843382</td>\n",
              "      <td>-44.042693</td>\n",
              "      <td>-21.437825</td>\n",
              "      <td>-17.694344</td>\n",
              "      <td>-112.480958</td>\n",
              "      <td>-57.787087</td>\n",
              "      <td>39.328444</td>\n",
              "      <td>-25.216604</td>\n",
              "      <td>-2.988820</td>\n",
              "      <td>1219.600982</td>\n",
              "    </tr>\n",
              "    <tr>\n",
              "      <th>7</th>\n",
              "      <td>1.0</td>\n",
              "      <td>675.99323</td>\n",
              "      <td>-11.22553</td>\n",
              "      <td>62.544991</td>\n",
              "      <td>68.749986</td>\n",
              "      <td>-39.300306</td>\n",
              "      <td>-11.625449</td>\n",
              "      <td>38.950139</td>\n",
              "      <td>-11.053588</td>\n",
              "      <td>-49.077138</td>\n",
              "      <td>16.533513</td>\n",
              "      <td>392.994726</td>\n",
              "      <td>-13.573357</td>\n",
              "      <td>294.620245</td>\n",
              "    </tr>\n",
              "    <tr>\n",
              "      <th>8</th>\n",
              "      <td>NaN</td>\n",
              "      <td>NaN</td>\n",
              "      <td>NaN</td>\n",
              "      <td>NaN</td>\n",
              "      <td>NaN</td>\n",
              "      <td>NaN</td>\n",
              "      <td>NaN</td>\n",
              "      <td>NaN</td>\n",
              "      <td>NaN</td>\n",
              "      <td>NaN</td>\n",
              "      <td>NaN</td>\n",
              "      <td>NaN</td>\n",
              "      <td>NaN</td>\n",
              "      <td>NaN</td>\n",
              "    </tr>\n",
              "  </tbody>\n",
              "</table>\n",
              "</div>"
            ],
            "text/plain": [
              "   Year       Total  ...  Independent operations        Other\n",
              "0   1.0  -315.63479  ...                1.561118    44.458163\n",
              "1   1.0   115.81446  ...               -0.773420  -217.986936\n",
              "2   1.0  1170.92882  ...               26.791421   170.566174\n",
              "3   1.0   838.43094  ...                9.003737   -61.316092\n",
              "4   1.0  2317.99579  ...                8.739486   661.206107\n",
              "5   1.0   -41.34930  ...              -10.133610   127.346972\n",
              "6   1.0   595.90827  ...               -2.988820  1219.600982\n",
              "7   1.0   675.99323  ...              -13.573357   294.620245\n",
              "8   NaN         NaN  ...                     NaN          NaN\n",
              "\n",
              "[9 rows x 14 columns]"
            ]
          },
          "metadata": {},
          "execution_count": 7
        }
      ]
    },
    {
      "cell_type": "code",
      "metadata": {
        "colab": {
          "base_uri": "https://localhost:8080/",
          "height": 318
        },
        "id": "DaW5ep8QFph-",
        "outputId": "20dcb0ec-5576-44b3-b698-c92a8123f41a"
      },
      "source": [
        "cost1.describe()"
      ],
      "execution_count": null,
      "outputs": [
        {
          "output_type": "execute_result",
          "data": {
            "text/html": [
              "<div>\n",
              "<style scoped>\n",
              "    .dataframe tbody tr th:only-of-type {\n",
              "        vertical-align: middle;\n",
              "    }\n",
              "\n",
              "    .dataframe tbody tr th {\n",
              "        vertical-align: top;\n",
              "    }\n",
              "\n",
              "    .dataframe thead th {\n",
              "        text-align: right;\n",
              "    }\n",
              "</style>\n",
              "<table border=\"1\" class=\"dataframe\">\n",
              "  <thead>\n",
              "    <tr style=\"text-align: right;\">\n",
              "      <th></th>\n",
              "      <th>Year</th>\n",
              "      <th>Total</th>\n",
              "      <th>Total instruction</th>\n",
              "      <th>Salaries and wages</th>\n",
              "      <th>Research</th>\n",
              "      <th>Public Service</th>\n",
              "      <th>Academic Support</th>\n",
              "      <th>Student Services</th>\n",
              "      <th>Institutional Support</th>\n",
              "      <th>Auxilary Enterprises</th>\n",
              "      <th>Net Aid Grant to students</th>\n",
              "      <th>Hospital services</th>\n",
              "      <th>Independent operations</th>\n",
              "      <th>Other</th>\n",
              "    </tr>\n",
              "  </thead>\n",
              "  <tbody>\n",
              "    <tr>\n",
              "      <th>count</th>\n",
              "      <td>8.0</td>\n",
              "      <td>8.000000</td>\n",
              "      <td>8.000000</td>\n",
              "      <td>8.000000</td>\n",
              "      <td>8.000000</td>\n",
              "      <td>8.000000</td>\n",
              "      <td>8.000000</td>\n",
              "      <td>8.000000</td>\n",
              "      <td>8.000000</td>\n",
              "      <td>8.000000</td>\n",
              "      <td>8.000000</td>\n",
              "      <td>8.000000</td>\n",
              "      <td>8.000000</td>\n",
              "      <td>8.000000</td>\n",
              "    </tr>\n",
              "    <tr>\n",
              "      <th>mean</th>\n",
              "      <td>1.0</td>\n",
              "      <td>669.760927</td>\n",
              "      <td>47.860066</td>\n",
              "      <td>47.999874</td>\n",
              "      <td>-51.450078</td>\n",
              "      <td>-13.681425</td>\n",
              "      <td>62.560094</td>\n",
              "      <td>42.763379</td>\n",
              "      <td>19.294404</td>\n",
              "      <td>11.222908</td>\n",
              "      <td>-19.047283</td>\n",
              "      <td>288.098591</td>\n",
              "      <td>2.328319</td>\n",
              "      <td>279.811952</td>\n",
              "    </tr>\n",
              "    <tr>\n",
              "      <th>std</th>\n",
              "      <td>0.0</td>\n",
              "      <td>826.812227</td>\n",
              "      <td>282.215278</td>\n",
              "      <td>139.993202</td>\n",
              "      <td>90.825959</td>\n",
              "      <td>46.778794</td>\n",
              "      <td>65.801777</td>\n",
              "      <td>42.019998</td>\n",
              "      <td>106.241828</td>\n",
              "      <td>57.568907</td>\n",
              "      <td>54.793581</td>\n",
              "      <td>215.341652</td>\n",
              "      <td>12.709681</td>\n",
              "      <td>460.376849</td>\n",
              "    </tr>\n",
              "    <tr>\n",
              "      <th>min</th>\n",
              "      <td>1.0</td>\n",
              "      <td>-315.634790</td>\n",
              "      <td>-355.529450</td>\n",
              "      <td>-148.862345</td>\n",
              "      <td>-183.049661</td>\n",
              "      <td>-70.288221</td>\n",
              "      <td>-21.437825</td>\n",
              "      <td>-17.694344</td>\n",
              "      <td>-112.480958</td>\n",
              "      <td>-57.787087</td>\n",
              "      <td>-134.460044</td>\n",
              "      <td>-25.216604</td>\n",
              "      <td>-13.573357</td>\n",
              "      <td>-217.986936</td>\n",
              "    </tr>\n",
              "    <tr>\n",
              "      <th>25%</th>\n",
              "      <td>1.0</td>\n",
              "      <td>76.523520</td>\n",
              "      <td>-200.279420</td>\n",
              "      <td>-72.046363</td>\n",
              "      <td>-120.875957</td>\n",
              "      <td>-45.108763</td>\n",
              "      <td>2.723985</td>\n",
              "      <td>17.390947</td>\n",
              "      <td>-64.849113</td>\n",
              "      <td>-42.924485</td>\n",
              "      <td>-27.499937</td>\n",
              "      <td>180.003148</td>\n",
              "      <td>-4.775017</td>\n",
              "      <td>18.014599</td>\n",
              "    </tr>\n",
              "    <tr>\n",
              "      <th>50%</th>\n",
              "      <td>1.0</td>\n",
              "      <td>635.950750</td>\n",
              "      <td>63.884440</td>\n",
              "      <td>58.145064</td>\n",
              "      <td>-43.500001</td>\n",
              "      <td>-25.580713</td>\n",
              "      <td>69.404982</td>\n",
              "      <td>44.976978</td>\n",
              "      <td>13.975204</td>\n",
              "      <td>17.522734</td>\n",
              "      <td>-14.355538</td>\n",
              "      <td>312.111225</td>\n",
              "      <td>0.393849</td>\n",
              "      <td>148.956573</td>\n",
              "    </tr>\n",
              "    <tr>\n",
              "      <th>75%</th>\n",
              "      <td>1.0</td>\n",
              "      <td>921.555410</td>\n",
              "      <td>302.986118</td>\n",
              "      <td>131.014866</td>\n",
              "      <td>13.692482</td>\n",
              "      <td>10.222735</td>\n",
              "      <td>113.995621</td>\n",
              "      <td>63.111354</td>\n",
              "      <td>116.215026</td>\n",
              "      <td>40.866940</td>\n",
              "      <td>18.739439</td>\n",
              "      <td>350.311489</td>\n",
              "      <td>8.805548</td>\n",
              "      <td>386.266711</td>\n",
              "    </tr>\n",
              "    <tr>\n",
              "      <th>max</th>\n",
              "      <td>1.0</td>\n",
              "      <td>2317.995790</td>\n",
              "      <td>405.715470</td>\n",
              "      <td>258.496422</td>\n",
              "      <td>68.749986</td>\n",
              "      <td>70.756106</td>\n",
              "      <td>157.234563</td>\n",
              "      <td>101.736493</td>\n",
              "      <td>150.418333</td>\n",
              "      <td>99.365414</td>\n",
              "      <td>39.328444</td>\n",
              "      <td>687.889692</td>\n",
              "      <td>26.791421</td>\n",
              "      <td>1219.600982</td>\n",
              "    </tr>\n",
              "  </tbody>\n",
              "</table>\n",
              "</div>"
            ],
            "text/plain": [
              "       Year        Total  ...  Independent operations        Other\n",
              "count   8.0     8.000000  ...                8.000000     8.000000\n",
              "mean    1.0   669.760927  ...                2.328319   279.811952\n",
              "std     0.0   826.812227  ...               12.709681   460.376849\n",
              "min     1.0  -315.634790  ...              -13.573357  -217.986936\n",
              "25%     1.0    76.523520  ...               -4.775017    18.014599\n",
              "50%     1.0   635.950750  ...                0.393849   148.956573\n",
              "75%     1.0   921.555410  ...                8.805548   386.266711\n",
              "max     1.0  2317.995790  ...               26.791421  1219.600982\n",
              "\n",
              "[8 rows x 14 columns]"
            ]
          },
          "metadata": {},
          "execution_count": 8
        }
      ]
    },
    {
      "cell_type": "code",
      "metadata": {
        "id": "P0fJI_Zu5eaJ"
      },
      "source": [
        "cost1 = cost1.dropna()"
      ],
      "execution_count": null,
      "outputs": []
    },
    {
      "cell_type": "code",
      "metadata": {
        "colab": {
          "base_uri": "https://localhost:8080/",
          "height": 318
        },
        "id": "wXJ2g_M55-De",
        "outputId": "fd5ae38a-f8cf-4c10-d481-cb9b872c936d"
      },
      "source": [
        "cost1"
      ],
      "execution_count": null,
      "outputs": [
        {
          "output_type": "execute_result",
          "data": {
            "text/html": [
              "<div>\n",
              "<style scoped>\n",
              "    .dataframe tbody tr th:only-of-type {\n",
              "        vertical-align: middle;\n",
              "    }\n",
              "\n",
              "    .dataframe tbody tr th {\n",
              "        vertical-align: top;\n",
              "    }\n",
              "\n",
              "    .dataframe thead th {\n",
              "        text-align: right;\n",
              "    }\n",
              "</style>\n",
              "<table border=\"1\" class=\"dataframe\">\n",
              "  <thead>\n",
              "    <tr style=\"text-align: right;\">\n",
              "      <th></th>\n",
              "      <th>Year</th>\n",
              "      <th>Total</th>\n",
              "      <th>Total instruction</th>\n",
              "      <th>Salaries and wages</th>\n",
              "      <th>Research</th>\n",
              "      <th>Public Service</th>\n",
              "      <th>Academic Support</th>\n",
              "      <th>Student Services</th>\n",
              "      <th>Institutional Support</th>\n",
              "      <th>Auxilary Enterprises</th>\n",
              "      <th>Net Aid Grant to students</th>\n",
              "      <th>Hospital services</th>\n",
              "      <th>Independent operations</th>\n",
              "      <th>Other</th>\n",
              "    </tr>\n",
              "  </thead>\n",
              "  <tbody>\n",
              "    <tr>\n",
              "      <th>0</th>\n",
              "      <td>1.0</td>\n",
              "      <td>-315.63479</td>\n",
              "      <td>-203.03486</td>\n",
              "      <td>-148.862345</td>\n",
              "      <td>-183.049661</td>\n",
              "      <td>-70.288221</td>\n",
              "      <td>60.599095</td>\n",
              "      <td>24.117879</td>\n",
              "      <td>-107.867582</td>\n",
              "      <td>-40.873601</td>\n",
              "      <td>-134.460044</td>\n",
              "      <td>293.202921</td>\n",
              "      <td>1.561118</td>\n",
              "      <td>44.458163</td>\n",
              "    </tr>\n",
              "    <tr>\n",
              "      <th>1</th>\n",
              "      <td>1.0</td>\n",
              "      <td>115.81446</td>\n",
              "      <td>138.99441</td>\n",
              "      <td>53.745138</td>\n",
              "      <td>-61.156620</td>\n",
              "      <td>-48.306972</td>\n",
              "      <td>78.210869</td>\n",
              "      <td>52.831258</td>\n",
              "      <td>109.007725</td>\n",
              "      <td>11.565080</td>\n",
              "      <td>-19.786715</td>\n",
              "      <td>73.215787</td>\n",
              "      <td>-0.773420</td>\n",
              "      <td>-217.986936</td>\n",
              "    </tr>\n",
              "    <tr>\n",
              "      <th>2</th>\n",
              "      <td>1.0</td>\n",
              "      <td>1170.92882</td>\n",
              "      <td>302.31152</td>\n",
              "      <td>192.648337</td>\n",
              "      <td>-146.912662</td>\n",
              "      <td>29.942239</td>\n",
              "      <td>116.997309</td>\n",
              "      <td>101.736493</td>\n",
              "      <td>150.418333</td>\n",
              "      <td>99.365414</td>\n",
              "      <td>-16.371170</td>\n",
              "      <td>336.083744</td>\n",
              "      <td>26.791421</td>\n",
              "      <td>170.566174</td>\n",
              "    </tr>\n",
              "    <tr>\n",
              "      <th>3</th>\n",
              "      <td>1.0</td>\n",
              "      <td>838.43094</td>\n",
              "      <td>305.00991</td>\n",
              "      <td>110.470376</td>\n",
              "      <td>2.980578</td>\n",
              "      <td>-11.861120</td>\n",
              "      <td>112.995058</td>\n",
              "      <td>51.003817</td>\n",
              "      <td>39.003996</td>\n",
              "      <td>72.931438</td>\n",
              "      <td>-12.339906</td>\n",
              "      <td>331.019530</td>\n",
              "      <td>9.003737</td>\n",
              "      <td>-61.316092</td>\n",
              "    </tr>\n",
              "    <tr>\n",
              "      <th>4</th>\n",
              "      <td>1.0</td>\n",
              "      <td>2317.99579</td>\n",
              "      <td>405.71547</td>\n",
              "      <td>258.496422</td>\n",
              "      <td>45.828193</td>\n",
              "      <td>70.756106</td>\n",
              "      <td>157.234563</td>\n",
              "      <td>93.951640</td>\n",
              "      <td>137.836928</td>\n",
              "      <td>23.480387</td>\n",
              "      <td>25.357217</td>\n",
              "      <td>687.889692</td>\n",
              "      <td>8.739486</td>\n",
              "      <td>661.206107</td>\n",
              "    </tr>\n",
              "    <tr>\n",
              "      <th>5</th>\n",
              "      <td>1.0</td>\n",
              "      <td>-41.34930</td>\n",
              "      <td>-199.36094</td>\n",
              "      <td>-71.570762</td>\n",
              "      <td>-112.197055</td>\n",
              "      <td>3.649567</td>\n",
              "      <td>7.507130</td>\n",
              "      <td>-2.789847</td>\n",
              "      <td>-50.509623</td>\n",
              "      <td>30.178774</td>\n",
              "      <td>-50.639602</td>\n",
              "      <td>215.598935</td>\n",
              "      <td>-10.133610</td>\n",
              "      <td>127.346972</td>\n",
              "    </tr>\n",
              "    <tr>\n",
              "      <th>6</th>\n",
              "      <td>1.0</td>\n",
              "      <td>595.90827</td>\n",
              "      <td>-355.52945</td>\n",
              "      <td>-73.473168</td>\n",
              "      <td>-25.843382</td>\n",
              "      <td>-44.042693</td>\n",
              "      <td>-21.437825</td>\n",
              "      <td>-17.694344</td>\n",
              "      <td>-112.480958</td>\n",
              "      <td>-57.787087</td>\n",
              "      <td>39.328444</td>\n",
              "      <td>-25.216604</td>\n",
              "      <td>-2.988820</td>\n",
              "      <td>1219.600982</td>\n",
              "    </tr>\n",
              "    <tr>\n",
              "      <th>7</th>\n",
              "      <td>1.0</td>\n",
              "      <td>675.99323</td>\n",
              "      <td>-11.22553</td>\n",
              "      <td>62.544991</td>\n",
              "      <td>68.749986</td>\n",
              "      <td>-39.300306</td>\n",
              "      <td>-11.625449</td>\n",
              "      <td>38.950139</td>\n",
              "      <td>-11.053588</td>\n",
              "      <td>-49.077138</td>\n",
              "      <td>16.533513</td>\n",
              "      <td>392.994726</td>\n",
              "      <td>-13.573357</td>\n",
              "      <td>294.620245</td>\n",
              "    </tr>\n",
              "  </tbody>\n",
              "</table>\n",
              "</div>"
            ],
            "text/plain": [
              "   Year       Total  ...  Independent operations        Other\n",
              "0   1.0  -315.63479  ...                1.561118    44.458163\n",
              "1   1.0   115.81446  ...               -0.773420  -217.986936\n",
              "2   1.0  1170.92882  ...               26.791421   170.566174\n",
              "3   1.0   838.43094  ...                9.003737   -61.316092\n",
              "4   1.0  2317.99579  ...                8.739486   661.206107\n",
              "5   1.0   -41.34930  ...              -10.133610   127.346972\n",
              "6   1.0   595.90827  ...               -2.988820  1219.600982\n",
              "7   1.0   675.99323  ...              -13.573357   294.620245\n",
              "\n",
              "[8 rows x 14 columns]"
            ]
          },
          "metadata": {},
          "execution_count": 29
        }
      ]
    },
    {
      "cell_type": "code",
      "metadata": {
        "colab": {
          "base_uri": "https://localhost:8080/"
        },
        "id": "LkUmE8Zd-pto",
        "outputId": "09e23317-fb7f-47fa-8e24-c42c97b2333a"
      },
      "source": [
        "cost1.columns"
      ],
      "execution_count": null,
      "outputs": [
        {
          "output_type": "execute_result",
          "data": {
            "text/plain": [
              "Index(['Year', 'Total', 'Total instruction', 'Salaries and wages', 'Research',\n",
              "       'Public Service', 'Academic Support', 'Student Services',\n",
              "       'Institutional Support', 'Auxilary Enterprises',\n",
              "       'Net Aid Grant to students', 'Hospital services',\n",
              "       'Independent operations', 'Other'],\n",
              "      dtype='object')"
            ]
          },
          "metadata": {},
          "execution_count": 38
        }
      ]
    },
    {
      "cell_type": "markdown",
      "metadata": {
        "id": "L2Hymwmd0BrW"
      },
      "source": [
        "# **Statistical Tests**"
      ]
    },
    {
      "cell_type": "code",
      "metadata": {
        "id": "Zr5cOsaPzKJI"
      },
      "source": [
        "import scipy.stats \n",
        "from scipy import stats"
      ],
      "execution_count": null,
      "outputs": []
    },
    {
      "cell_type": "markdown",
      "metadata": {
        "id": "5MgU-ASUroyz"
      },
      "source": [
        "**Hypothesis test for difference in means:**"
      ]
    },
    {
      "cell_type": "markdown",
      "metadata": {
        "id": "BBzFiHdYrw9i"
      },
      "source": [
        "Let A = Cost per student for the Other Category\n",
        "\n",
        "Let B = Cost per student for the Research Category\n",
        "\n",
        "$H_0: \\mu_A - \\mu_B = 0$\n",
        "\n",
        "$H_A: \\mu_A - \\mu_B \\ne 0$"
      ]
    },
    {
      "cell_type": "code",
      "metadata": {
        "colab": {
          "base_uri": "https://localhost:8080/"
        },
        "id": "-MpHe2553_MB",
        "outputId": "2fedf4a3-06c7-4520-b33b-b0eca8bd629d"
      },
      "source": [
        "#get t statistic cannot use this p-value because we want one-sided test\n",
        "a = cost1['Other'].to_numpy()\n",
        "b = cost1['Research'].to_numpy()\n",
        "stats.ttest_ind(a=a, b=b, equal_var= True)"
      ],
      "execution_count": null,
      "outputs": [
        {
          "output_type": "execute_result",
          "data": {
            "text/plain": [
              "Ttest_indResult(statistic=1.9966950647089605, pvalue=0.06568238028828763)"
            ]
          },
          "metadata": {},
          "execution_count": 10
        }
      ]
    },
    {
      "cell_type": "code",
      "metadata": {
        "colab": {
          "base_uri": "https://localhost:8080/"
        },
        "id": "QSNgepQcByLz",
        "outputId": "3bedd4f3-8449-4386-ccfd-9e1a1ac80844"
      },
      "source": [
        "#get critical t statistic for one-sided test\n",
        "df = len(a) + len(b) -2\n",
        "t = scipy.stats.t.ppf(.95, df)\n",
        "1-scipy.stats.t.cdf(1.996695064708905,df)"
      ],
      "execution_count": null,
      "outputs": [
        {
          "output_type": "execute_result",
          "data": {
            "text/plain": [
              "0.032841190144147214"
            ]
          },
          "metadata": {},
          "execution_count": 16
        }
      ]
    },
    {
      "cell_type": "markdown",
      "metadata": {
        "id": "kNq31lwTphQa"
      },
      "source": [
        "With a p-value of .0328, we reject the null hypothesis. We have enough evidence to conclude the average yearly change in costs per student in the Other category are greater than the average yearly change in costs per student in the Research category. "
      ]
    },
    {
      "cell_type": "markdown",
      "metadata": {
        "id": "F25k2qmgtmku"
      },
      "source": [
        "**Hypothesis test for difference in means:**"
      ]
    },
    {
      "cell_type": "markdown",
      "metadata": {
        "id": "lUVxUbKptc2b"
      },
      "source": [
        "Let A = Cost per student for the Hospital Services Category\n",
        "\n",
        "Let B = Cost per student for the Academic Support Category\n",
        "\n",
        "$H_0: \\mu_A - \\mu_B = 0$\n",
        "\n",
        "$H_A: \\mu_A - \\mu_B \\ne 0$"
      ]
    },
    {
      "cell_type": "code",
      "metadata": {
        "colab": {
          "base_uri": "https://localhost:8080/"
        },
        "id": "whRrAhMstpE0",
        "outputId": "df0327e7-93dc-42bd-81d7-18ba40acffb9"
      },
      "source": [
        "#get t statistic cannot use this p-value because we want one-sided test\n",
        "a = cost1['Hospital services'].to_numpy()\n",
        "b = cost1['Academic Support'].to_numpy()\n",
        "stats.ttest_ind(a=a, b=b, equal_var= True)"
      ],
      "execution_count": null,
      "outputs": [
        {
          "output_type": "execute_result",
          "data": {
            "text/plain": [
              "Ttest_indResult(statistic=2.8330455326844675, pvalue=0.01328675296174631)"
            ]
          },
          "metadata": {},
          "execution_count": 20
        }
      ]
    },
    {
      "cell_type": "code",
      "metadata": {
        "colab": {
          "base_uri": "https://localhost:8080/"
        },
        "id": "1sjAuyUltq11",
        "outputId": "bc6f02dd-0db6-4f4f-e99b-f7e6c4100bb1"
      },
      "source": [
        "#get critical t statistic for one-sided test\n",
        "df = len(a) + len(b) -2\n",
        "t = scipy.stats.t.ppf(.95, df)\n",
        "1-scipy.stats.t.cdf(2.8330455326844675,df)"
      ],
      "execution_count": null,
      "outputs": [
        {
          "output_type": "execute_result",
          "data": {
            "text/plain": [
              "0.006643376480873098"
            ]
          },
          "metadata": {},
          "execution_count": 21
        }
      ]
    },
    {
      "cell_type": "markdown",
      "metadata": {
        "id": "r1aRFme6ttgb"
      },
      "source": [
        "With a p-value of .0066, we reject the null hypothesis. We have enough evidence to conclude the average yearly change in costs per student in the Hospital Services category are greater than the average yearly change in costs per student in the Academic Support category. "
      ]
    },
    {
      "cell_type": "markdown",
      "metadata": {
        "id": "qSUyyI9wCPYm"
      },
      "source": [
        "## **Data Visualization**"
      ]
    },
    {
      "cell_type": "code",
      "metadata": {
        "id": "Kl9tA--ZD0sf"
      },
      "source": [
        "from google.colab import files"
      ],
      "execution_count": null,
      "outputs": []
    },
    {
      "cell_type": "code",
      "metadata": {
        "colab": {
          "base_uri": "https://localhost:8080/",
          "height": 1000
        },
        "id": "iMt7sw0mCNtq",
        "outputId": "743de94e-4e09-4391-876e-0d37864a7dc6"
      },
      "source": [
        " #Visualize change in cost per student for each category over time\n",
        " labels = ['2010-2011','2011-2012','2012-2013','2013-2014','2014-2015','2015-2016','2016-2017','2017-2018']\n",
        "\n",
        " for i in range(len(cost1)): \n",
        "  f = plt.figure()\n",
        "  cost1.drop(columns = ['Year','Total']).iloc[i].plot.barh(fontsize = 'large', figsize =(10,5), stacked = True, alpha = .8)\n",
        "  plt.xlim(-500, 1300)\n",
        "  plt.title(label = labels[i], fontsize = 24)\n",
        "  plt.xlabel('Change in Cost per Student ($)', fontsize = 20)\n",
        "  plt.tight_layout(pad = 1.08)\n",
        "  plt.show()\n",
        "  \n",
        "  #uncomment to download images for gif\n",
        "  #f.savefig('cost1breakdown'+ str(i)+'.jpg')\n",
        "  #files.download('cost1breakdown'+ str(i)+'.jpg')"
      ],
      "execution_count": null,
      "outputs": [
        {
          "output_type": "display_data",
          "data": {
            "image/png": "[encoded data removed]",
            "text/plain": [
              "<Figure size 720x360 with 1 Axes>"
            ]
          },
          "metadata": {
            "needs_background": "light"
          }
        },
        {
          "output_type": "display_data",
          "data": {
            "application/javascript": [
              "\n",
              "    async function download(id, filename, size) {\n",
              "      if (!google.colab.kernel.accessAllowed) {\n",
              "        return;\n",
              "      }\n",
              "      const div = document.createElement('div');\n",
              "      const label = document.createElement('label');\n",
              "      label.textContent = `Downloading \"${filename}\": `;\n",
              "      div.appendChild(label);\n",
              "      const progress = document.createElement('progress');\n",
              "      progress.max = size;\n",
              "      div.appendChild(progress);\n",
              "      document.body.appendChild(div);\n",
              "\n",
              "      const buffers = [];\n",
              "      let downloaded = 0;\n",
              "\n",
              "      const channel = await google.colab.kernel.comms.open(id);\n",
              "      // Send a message to notify the kernel that we're ready.\n",
              "      channel.send({})\n",
              "\n",
              "      for await (const message of channel.messages) {\n",
              "        // Send a message to notify the kernel that we're ready.\n",
              "        channel.send({})\n",
              "        if (message.buffers) {\n",
              "          for (const buffer of message.buffers) {\n",
              "            buffers.push(buffer);\n",
              "            downloaded += buffer.byteLength;\n",
              "            progress.value = downloaded;\n",
              "          }\n",
              "        }\n",
              "      }\n",
              "      const blob = new Blob(buffers, {type: 'application/binary'});\n",
              "      const a = document.createElement('a');\n",
              "      a.href = window.URL.createObjectURL(blob);\n",
              "      a.download = filename;\n",
              "      div.appendChild(a);\n",
              "      a.click();\n",
              "      div.remove();\n",
              "    }\n",
              "  "
            ],
            "text/plain": [
              "<IPython.core.display.Javascript object>"
            ]
          },
          "metadata": {}
        },
        {
          "output_type": "display_data",
          "data": {
            "application/javascript": [
              "download(\"download_2292b7fc-0459-47c2-b295-4fc23b3a7043\", \"cost1breakdown0.jpg\", 59621)"
            ],
            "text/plain": [
              "<IPython.core.display.Javascript object>"
            ]
          },
          "metadata": {}
        },
        {
          "output_type": "display_data",
          "data": {
            "image/png": "[encoded data removed]",
            "text/plain": [
              "<Figure size 720x360 with 1 Axes>"
            ]
          },
          "metadata": {
            "needs_background": "light"
          }
        },
        {
          "output_type": "display_data",
          "data": {
            "application/javascript": [
              "\n",
              "    async function download(id, filename, size) {\n",
              "      if (!google.colab.kernel.accessAllowed) {\n",
              "        return;\n",
              "      }\n",
              "      const div = document.createElement('div');\n",
              "      const label = document.createElement('label');\n",
              "      label.textContent = `Downloading \"${filename}\": `;\n",
              "      div.appendChild(label);\n",
              "      const progress = document.createElement('progress');\n",
              "      progress.max = size;\n",
              "      div.appendChild(progress);\n",
              "      document.body.appendChild(div);\n",
              "\n",
              "      const buffers = [];\n",
              "      let downloaded = 0;\n",
              "\n",
              "      const channel = await google.colab.kernel.comms.open(id);\n",
              "      // Send a message to notify the kernel that we're ready.\n",
              "      channel.send({})\n",
              "\n",
              "      for await (const message of channel.messages) {\n",
              "        // Send a message to notify the kernel that we're ready.\n",
              "        channel.send({})\n",
              "        if (message.buffers) {\n",
              "          for (const buffer of message.buffers) {\n",
              "            buffers.push(buffer);\n",
              "            downloaded += buffer.byteLength;\n",
              "            progress.value = downloaded;\n",
              "          }\n",
              "        }\n",
              "      }\n",
              "      const blob = new Blob(buffers, {type: 'application/binary'});\n",
              "      const a = document.createElement('a');\n",
              "      a.href = window.URL.createObjectURL(blob);\n",
              "      a.download = filename;\n",
              "      div.appendChild(a);\n",
              "      a.click();\n",
              "      div.remove();\n",
              "    }\n",
              "  "
            ],
            "text/plain": [
              "<IPython.core.display.Javascript object>"
            ]
          },
          "metadata": {}
        },
        {
          "output_type": "display_data",
          "data": {
            "application/javascript": [
              "download(\"download_c2cb5f5b-b0cf-4c56-8309-625c4318c597\", \"cost1breakdown1.jpg\", 58569)"
            ],
            "text/plain": [
              "<IPython.core.display.Javascript object>"
            ]
          },
          "metadata": {}
        },
        {
          "output_type": "display_data",
          "data": {
            "image/png": "[encoded data removed]",
            "text/plain": [
              "<Figure size 720x360 with 1 Axes>"
            ]
          },
          "metadata": {
            "needs_background": "light"
          }
        },
        {
          "output_type": "display_data",
          "data": {
            "application/javascript": [
              "\n",
              "    async function download(id, filename, size) {\n",
              "      if (!google.colab.kernel.accessAllowed) {\n",
              "        return;\n",
              "      }\n",
              "      const div = document.createElement('div');\n",
              "      const label = document.createElement('label');\n",
              "      label.textContent = `Downloading \"${filename}\": `;\n",
              "      div.appendChild(label);\n",
              "      const progress = document.createElement('progress');\n",
              "      progress.max = size;\n",
              "      div.appendChild(progress);\n",
              "      document.body.appendChild(div);\n",
              "\n",
              "      const buffers = [];\n",
              "      let downloaded = 0;\n",
              "\n",
              "      const channel = await google.colab.kernel.comms.open(id);\n",
              "      // Send a message to notify the kernel that we're ready.\n",
              "      channel.send({})\n",
              "\n",
              "      for await (const message of channel.messages) {\n",
              "        // Send a message to notify the kernel that we're ready.\n",
              "        channel.send({})\n",
              "        if (message.buffers) {\n",
              "          for (const buffer of message.buffers) {\n",
              "            buffers.push(buffer);\n",
              "            downloaded += buffer.byteLength;\n",
              "            progress.value = downloaded;\n",
              "          }\n",
              "        }\n",
              "      }\n",
              "      const blob = new Blob(buffers, {type: 'application/binary'});\n",
              "      const a = document.createElement('a');\n",
              "      a.href = window.URL.createObjectURL(blob);\n",
              "      a.download = filename;\n",
              "      div.appendChild(a);\n",
              "      a.click();\n",
              "      div.remove();\n",
              "    }\n",
              "  "
            ],
            "text/plain": [
              "<IPython.core.display.Javascript object>"
            ]
          },
          "metadata": {}
        },
        {
          "output_type": "display_data",
          "data": {
            "application/javascript": [
              "download(\"download_f0e91e15-c312-4e9f-a9d5-8ebf1a9ae450\", \"cost1breakdown2.jpg\", 60196)"
            ],
            "text/plain": [
              "<IPython.core.display.Javascript object>"
            ]
          },
          "metadata": {}
        },
        {
          "output_type": "display_data",
          "data": {
            "image/png": "[encoded data removed]",
            "text/plain": [
              "<Figure size 720x360 with 1 Axes>"
            ]
          },
          "metadata": {
            "needs_background": "light"
          }
        },
        {
          "output_type": "display_data",
          "data": {
            "application/javascript": [
              "\n",
              "    async function download(id, filename, size) {\n",
              "      if (!google.colab.kernel.accessAllowed) {\n",
              "        return;\n",
              "      }\n",
              "      const div = document.createElement('div');\n",
              "      const label = document.createElement('label');\n",
              "      label.textContent = `Downloading \"${filename}\": `;\n",
              "      div.appendChild(label);\n",
              "      const progress = document.createElement('progress');\n",
              "      progress.max = size;\n",
              "      div.appendChild(progress);\n",
              "      document.body.appendChild(div);\n",
              "\n",
              "      const buffers = [];\n",
              "      let downloaded = 0;\n",
              "\n",
              "      const channel = await google.colab.kernel.comms.open(id);\n",
              "      // Send a message to notify the kernel that we're ready.\n",
              "      channel.send({})\n",
              "\n",
              "      for await (const message of channel.messages) {\n",
              "        // Send a message to notify the kernel that we're ready.\n",
              "        channel.send({})\n",
              "        if (message.buffers) {\n",
              "          for (const buffer of message.buffers) {\n",
              "            buffers.push(buffer);\n",
              "            downloaded += buffer.byteLength;\n",
              "            progress.value = downloaded;\n",
              "          }\n",
              "        }\n",
              "      }\n",
              "      const blob = new Blob(buffers, {type: 'application/binary'});\n",
              "      const a = document.createElement('a');\n",
              "      a.href = window.URL.createObjectURL(blob);\n",
              "      a.download = filename;\n",
              "      div.appendChild(a);\n",
              "      a.click();\n",
              "      div.remove();\n",
              "    }\n",
              "  "
            ],
            "text/plain": [
              "<IPython.core.display.Javascript object>"
            ]
          },
          "metadata": {}
        },
        {
          "output_type": "display_data",
          "data": {
            "application/javascript": [
              "download(\"download_0f9890da-089f-4cbc-b51f-6f227c9a44a2\", \"cost1breakdown3.jpg\", 59131)"
            ],
            "text/plain": [
              "<IPython.core.display.Javascript object>"
            ]
          },
          "metadata": {}
        },
        {
          "output_type": "display_data",
          "data": {
            "image/png": "[encoded data removed]",
            "text/plain": [
              "<Figure size 720x360 with 1 Axes>"
            ]
          },
          "metadata": {
            "needs_background": "light"
          }
        },
        {
          "output_type": "display_data",
          "data": {
            "application/javascript": [
              "\n",
              "    async function download(id, filename, size) {\n",
              "      if (!google.colab.kernel.accessAllowed) {\n",
              "        return;\n",
              "      }\n",
              "      const div = document.createElement('div');\n",
              "      const label = document.createElement('label');\n",
              "      label.textContent = `Downloading \"${filename}\": `;\n",
              "      div.appendChild(label);\n",
              "      const progress = document.createElement('progress');\n",
              "      progress.max = size;\n",
              "      div.appendChild(progress);\n",
              "      document.body.appendChild(div);\n",
              "\n",
              "      const buffers = [];\n",
              "      let downloaded = 0;\n",
              "\n",
              "      const channel = await google.colab.kernel.comms.open(id);\n",
              "      // Send a message to notify the kernel that we're ready.\n",
              "      channel.send({})\n",
              "\n",
              "      for await (const message of channel.messages) {\n",
              "        // Send a message to notify the kernel that we're ready.\n",
              "        channel.send({})\n",
              "        if (message.buffers) {\n",
              "          for (const buffer of message.buffers) {\n",
              "            buffers.push(buffer);\n",
              "            downloaded += buffer.byteLength;\n",
              "            progress.value = downloaded;\n",
              "          }\n",
              "        }\n",
              "      }\n",
              "      const blob = new Blob(buffers, {type: 'application/binary'});\n",
              "      const a = document.createElement('a');\n",
              "      a.href = window.URL.createObjectURL(blob);\n",
              "      a.download = filename;\n",
              "      div.appendChild(a);\n",
              "      a.click();\n",
              "      div.remove();\n",
              "    }\n",
              "  "
            ],
            "text/plain": [
              "<IPython.core.display.Javascript object>"
            ]
          },
          "metadata": {}
        },
        {
          "output_type": "display_data",
          "data": {
            "application/javascript": [
              "download(\"download_4c509993-e165-42a9-bd77-228236632208\", \"cost1breakdown4.jpg\", 61478)"
            ],
            "text/plain": [
              "<IPython.core.display.Javascript object>"
            ]
          },
          "metadata": {}
        },
        {
          "output_type": "display_data",
          "data": {
            "image/png": "[encoded data removed]",
            "text/plain": [
              "<Figure size 720x360 with 1 Axes>"
            ]
          },
          "metadata": {
            "needs_background": "light"
          }
        },
        {
          "output_type": "display_data",
          "data": {
            "application/javascript": [
              "\n",
              "    async function download(id, filename, size) {\n",
              "      if (!google.colab.kernel.accessAllowed) {\n",
              "        return;\n",
              "      }\n",
              "      const div = document.createElement('div');\n",
              "      const label = document.createElement('label');\n",
              "      label.textContent = `Downloading \"${filename}\": `;\n",
              "      div.appendChild(label);\n",
              "      const progress = document.createElement('progress');\n",
              "      progress.max = size;\n",
              "      div.appendChild(progress);\n",
              "      document.body.appendChild(div);\n",
              "\n",
              "      const buffers = [];\n",
              "      let downloaded = 0;\n",
              "\n",
              "      const channel = await google.colab.kernel.comms.open(id);\n",
              "      // Send a message to notify the kernel that we're ready.\n",
              "      channel.send({})\n",
              "\n",
              "      for await (const message of channel.messages) {\n",
              "        // Send a message to notify the kernel that we're ready.\n",
              "        channel.send({})\n",
              "        if (message.buffers) {\n",
              "          for (const buffer of message.buffers) {\n",
              "            buffers.push(buffer);\n",
              "            downloaded += buffer.byteLength;\n",
              "            progress.value = downloaded;\n",
              "          }\n",
              "        }\n",
              "      }\n",
              "      const blob = new Blob(buffers, {type: 'application/binary'});\n",
              "      const a = document.createElement('a');\n",
              "      a.href = window.URL.createObjectURL(blob);\n",
              "      a.download = filename;\n",
              "      div.appendChild(a);\n",
              "      a.click();\n",
              "      div.remove();\n",
              "    }\n",
              "  "
            ],
            "text/plain": [
              "<IPython.core.display.Javascript object>"
            ]
          },
          "metadata": {}
        },
        {
          "output_type": "display_data",
          "data": {
            "application/javascript": [
              "download(\"download_ad2c232b-50a0-4b13-9e6d-696b66efc732\", \"cost1breakdown5.jpg\", 58716)"
            ],
            "text/plain": [
              "<IPython.core.display.Javascript object>"
            ]
          },
          "metadata": {}
        },
        {
          "output_type": "display_data",
          "data": {
            "image/png": "[encoded data removed]",
            "text/plain": [
              "<Figure size 720x360 with 1 Axes>"
            ]
          },
          "metadata": {
            "needs_background": "light"
          }
        },
        {
          "output_type": "display_data",
          "data": {
            "application/javascript": [
              "\n",
              "    async function download(id, filename, size) {\n",
              "      if (!google.colab.kernel.accessAllowed) {\n",
              "        return;\n",
              "      }\n",
              "      const div = document.createElement('div');\n",
              "      const label = document.createElement('label');\n",
              "      label.textContent = `Downloading \"${filename}\": `;\n",
              "      div.appendChild(label);\n",
              "      const progress = document.createElement('progress');\n",
              "      progress.max = size;\n",
              "      div.appendChild(progress);\n",
              "      document.body.appendChild(div);\n",
              "\n",
              "      const buffers = [];\n",
              "      let downloaded = 0;\n",
              "\n",
              "      const channel = await google.colab.kernel.comms.open(id);\n",
              "      // Send a message to notify the kernel that we're ready.\n",
              "      channel.send({})\n",
              "\n",
              "      for await (const message of channel.messages) {\n",
              "        // Send a message to notify the kernel that we're ready.\n",
              "        channel.send({})\n",
              "        if (message.buffers) {\n",
              "          for (const buffer of message.buffers) {\n",
              "            buffers.push(buffer);\n",
              "            downloaded += buffer.byteLength;\n",
              "            progress.value = downloaded;\n",
              "          }\n",
              "        }\n",
              "      }\n",
              "      const blob = new Blob(buffers, {type: 'application/binary'});\n",
              "      const a = document.createElement('a');\n",
              "      a.href = window.URL.createObjectURL(blob);\n",
              "      a.download = filename;\n",
              "      div.appendChild(a);\n",
              "      a.click();\n",
              "      div.remove();\n",
              "    }\n",
              "  "
            ],
            "text/plain": [
              "<IPython.core.display.Javascript object>"
            ]
          },
          "metadata": {}
        },
        {
          "output_type": "display_data",
          "data": {
            "application/javascript": [
              "download(\"download_6b373fa5-b1fa-4a46-9749-577651f019be\", \"cost1breakdown6.jpg\", 60595)"
            ],
            "text/plain": [
              "<IPython.core.display.Javascript object>"
            ]
          },
          "metadata": {}
        },
        {
          "output_type": "display_data",
          "data": {
            "image/png": "[encoded data removed]",
            "text/plain": [
              "<Figure size 720x360 with 1 Axes>"
            ]
          },
          "metadata": {
            "needs_background": "light"
          }
        },
        {
          "output_type": "display_data",
          "data": {
            "application/javascript": [
              "\n",
              "    async function download(id, filename, size) {\n",
              "      if (!google.colab.kernel.accessAllowed) {\n",
              "        return;\n",
              "      }\n",
              "      const div = document.createElement('div');\n",
              "      const label = document.createElement('label');\n",
              "      label.textContent = `Downloading \"${filename}\": `;\n",
              "      div.appendChild(label);\n",
              "      const progress = document.createElement('progress');\n",
              "      progress.max = size;\n",
              "      div.appendChild(progress);\n",
              "      document.body.appendChild(div);\n",
              "\n",
              "      const buffers = [];\n",
              "      let downloaded = 0;\n",
              "\n",
              "      const channel = await google.colab.kernel.comms.open(id);\n",
              "      // Send a message to notify the kernel that we're ready.\n",
              "      channel.send({})\n",
              "\n",
              "      for await (const message of channel.messages) {\n",
              "        // Send a message to notify the kernel that we're ready.\n",
              "        channel.send({})\n",
              "        if (message.buffers) {\n",
              "          for (const buffer of message.buffers) {\n",
              "            buffers.push(buffer);\n",
              "            downloaded += buffer.byteLength;\n",
              "            progress.value = downloaded;\n",
              "          }\n",
              "        }\n",
              "      }\n",
              "      const blob = new Blob(buffers, {type: 'application/binary'});\n",
              "      const a = document.createElement('a');\n",
              "      a.href = window.URL.createObjectURL(blob);\n",
              "      a.download = filename;\n",
              "      div.appendChild(a);\n",
              "      a.click();\n",
              "      div.remove();\n",
              "    }\n",
              "  "
            ],
            "text/plain": [
              "<IPython.core.display.Javascript object>"
            ]
          },
          "metadata": {}
        },
        {
          "output_type": "display_data",
          "data": {
            "application/javascript": [
              "download(\"download_9f48c55a-8d7d-4c0b-8318-c6fe50ea4c76\", \"cost1breakdown7.jpg\", 59314)"
            ],
            "text/plain": [
              "<IPython.core.display.Javascript object>"
            ]
          },
          "metadata": {}
        }
      ]
    },
    {
      "cell_type": "code",
      "metadata": {
        "colab": {
          "base_uri": "https://localhost:8080/",
          "height": 1000
        },
        "id": "yq8NhtaF9q7S",
        "outputId": "6d2d7637-9e3f-48b2-8277-a05c6c27b5bd"
      },
      "source": [
        " #Visualize change in total cost per student over the years\n",
        "\n",
        "labels = ['2010-2011','2011-2012','2012-2013','2013-2014','2014-2015','2015-2016','2016-2017','2017-2018']\n",
        "\n",
        "for i in range(len(cost1)): \n",
        "  f = plt.figure()\n",
        "  cost1.drop(columns = ['Year', 'Total instruction', 'Salaries and wages', 'Research',\n",
        "       'Public Service', 'Academic Support', 'Student Services',\n",
        "       'Institutional Support', 'Auxilary Enterprises',\n",
        "       'Net Aid Grant to students', 'Hospital services',\n",
        "       'Independent operations', 'Other']).iloc[i].plot.barh(fontsize = 'large', figsize =(15,7), stacked = True, alpha = .8)\n",
        "  plt.xlim(-500, 2400)\n",
        "  plt.title(label = labels[i], fontsize = 24)\n",
        "  plt.xlabel('Change in Cost per Student ($)', fontsize = 20)\n",
        "  plt.show()\n",
        "  \n",
        "  #uncomment to download images for gif\n",
        "  #f.savefig('totalcost'+ str(i)+'.jpg')\n",
        "  #files.download('totalcost'+ str(i)+'.jpg')"
      ],
      "execution_count": null,
      "outputs": [
        {
          "output_type": "display_data",
          "data": {
            "image/png": "[encoded data removed]",
            "text/plain": [
              "<Figure size 1080x504 with 1 Axes>"
            ]
          },
          "metadata": {
            "needs_background": "light"
          }
        },
        {
          "output_type": "display_data",
          "data": {
            "application/javascript": [
              "\n",
              "    async function download(id, filename, size) {\n",
              "      if (!google.colab.kernel.accessAllowed) {\n",
              "        return;\n",
              "      }\n",
              "      const div = document.createElement('div');\n",
              "      const label = document.createElement('label');\n",
              "      label.textContent = `Downloading \"${filename}\": `;\n",
              "      div.appendChild(label);\n",
              "      const progress = document.createElement('progress');\n",
              "      progress.max = size;\n",
              "      div.appendChild(progress);\n",
              "      document.body.appendChild(div);\n",
              "\n",
              "      const buffers = [];\n",
              "      let downloaded = 0;\n",
              "\n",
              "      const channel = await google.colab.kernel.comms.open(id);\n",
              "      // Send a message to notify the kernel that we're ready.\n",
              "      channel.send({})\n",
              "\n",
              "      for await (const message of channel.messages) {\n",
              "        // Send a message to notify the kernel that we're ready.\n",
              "        channel.send({})\n",
              "        if (message.buffers) {\n",
              "          for (const buffer of message.buffers) {\n",
              "            buffers.push(buffer);\n",
              "            downloaded += buffer.byteLength;\n",
              "            progress.value = downloaded;\n",
              "          }\n",
              "        }\n",
              "      }\n",
              "      const blob = new Blob(buffers, {type: 'application/binary'});\n",
              "      const a = document.createElement('a');\n",
              "      a.href = window.URL.createObjectURL(blob);\n",
              "      a.download = filename;\n",
              "      div.appendChild(a);\n",
              "      a.click();\n",
              "      div.remove();\n",
              "    }\n",
              "  "
            ],
            "text/plain": [
              "<IPython.core.display.Javascript object>"
            ]
          },
          "metadata": {}
        },
        {
          "output_type": "display_data",
          "data": {
            "application/javascript": [
              "download(\"download_c43390b8-cad5-450e-8944-f400ad65e6cf\", \"totalcost0.jpg\", 31188)"
            ],
            "text/plain": [
              "<IPython.core.display.Javascript object>"
            ]
          },
          "metadata": {}
        },
        {
          "output_type": "display_data",
          "data": {
            "image/png": "[encoded data removed]",
            "text/plain": [
              "<Figure size 1080x504 with 1 Axes>"
            ]
          },
          "metadata": {
            "needs_background": "light"
          }
        },
        {
          "output_type": "display_data",
          "data": {
            "application/javascript": [
              "\n",
              "    async function download(id, filename, size) {\n",
              "      if (!google.colab.kernel.accessAllowed) {\n",
              "        return;\n",
              "      }\n",
              "      const div = document.createElement('div');\n",
              "      const label = document.createElement('label');\n",
              "      label.textContent = `Downloading \"${filename}\": `;\n",
              "      div.appendChild(label);\n",
              "      const progress = document.createElement('progress');\n",
              "      progress.max = size;\n",
              "      div.appendChild(progress);\n",
              "      document.body.appendChild(div);\n",
              "\n",
              "      const buffers = [];\n",
              "      let downloaded = 0;\n",
              "\n",
              "      const channel = await google.colab.kernel.comms.open(id);\n",
              "      // Send a message to notify the kernel that we're ready.\n",
              "      channel.send({})\n",
              "\n",
              "      for await (const message of channel.messages) {\n",
              "        // Send a message to notify the kernel that we're ready.\n",
              "        channel.send({})\n",
              "        if (message.buffers) {\n",
              "          for (const buffer of message.buffers) {\n",
              "            buffers.push(buffer);\n",
              "            downloaded += buffer.byteLength;\n",
              "            progress.value = downloaded;\n",
              "          }\n",
              "        }\n",
              "      }\n",
              "      const blob = new Blob(buffers, {type: 'application/binary'});\n",
              "      const a = document.createElement('a');\n",
              "      a.href = window.URL.createObjectURL(blob);\n",
              "      a.download = filename;\n",
              "      div.appendChild(a);\n",
              "      a.click();\n",
              "      div.remove();\n",
              "    }\n",
              "  "
            ],
            "text/plain": [
              "<IPython.core.display.Javascript object>"
            ]
          },
          "metadata": {}
        },
        {
          "output_type": "display_data",
          "data": {
            "application/javascript": [
              "download(\"download_7c6c36f5-d20b-48ce-8e5c-cfef1fbb1bbb\", \"totalcost1.jpg\", 30664)"
            ],
            "text/plain": [
              "<IPython.core.display.Javascript object>"
            ]
          },
          "metadata": {}
        },
        {
          "output_type": "display_data",
          "data": {
            "image/png": "[encoded data removed]",
            "text/plain": [
              "<Figure size 1080x504 with 1 Axes>"
            ]
          },
          "metadata": {
            "needs_background": "light"
          }
        },
        {
          "output_type": "display_data",
          "data": {
            "application/javascript": [
              "\n",
              "    async function download(id, filename, size) {\n",
              "      if (!google.colab.kernel.accessAllowed) {\n",
              "        return;\n",
              "      }\n",
              "      const div = document.createElement('div');\n",
              "      const label = document.createElement('label');\n",
              "      label.textContent = `Downloading \"${filename}\": `;\n",
              "      div.appendChild(label);\n",
              "      const progress = document.createElement('progress');\n",
              "      progress.max = size;\n",
              "      div.appendChild(progress);\n",
              "      document.body.appendChild(div);\n",
              "\n",
              "      const buffers = [];\n",
              "      let downloaded = 0;\n",
              "\n",
              "      const channel = await google.colab.kernel.comms.open(id);\n",
              "      // Send a message to notify the kernel that we're ready.\n",
              "      channel.send({})\n",
              "\n",
              "      for await (const message of channel.messages) {\n",
              "        // Send a message to notify the kernel that we're ready.\n",
              "        channel.send({})\n",
              "        if (message.buffers) {\n",
              "          for (const buffer of message.buffers) {\n",
              "            buffers.push(buffer);\n",
              "            downloaded += buffer.byteLength;\n",
              "            progress.value = downloaded;\n",
              "          }\n",
              "        }\n",
              "      }\n",
              "      const blob = new Blob(buffers, {type: 'application/binary'});\n",
              "      const a = document.createElement('a');\n",
              "      a.href = window.URL.createObjectURL(blob);\n",
              "      a.download = filename;\n",
              "      div.appendChild(a);\n",
              "      a.click();\n",
              "      div.remove();\n",
              "    }\n",
              "  "
            ],
            "text/plain": [
              "<IPython.core.display.Javascript object>"
            ]
          },
          "metadata": {}
        },
        {
          "output_type": "display_data",
          "data": {
            "application/javascript": [
              "download(\"download_b2dd1678-4334-4de3-8153-139dc227f72c\", \"totalcost2.jpg\", 32694)"
            ],
            "text/plain": [
              "<IPython.core.display.Javascript object>"
            ]
          },
          "metadata": {}
        },
        {
          "output_type": "display_data",
          "data": {
            "image/png": "[encoded data removed]",
            "text/plain": [
              "<Figure size 1080x504 with 1 Axes>"
            ]
          },
          "metadata": {
            "needs_background": "light"
          }
        },
        {
          "output_type": "display_data",
          "data": {
            "application/javascript": [
              "\n",
              "    async function download(id, filename, size) {\n",
              "      if (!google.colab.kernel.accessAllowed) {\n",
              "        return;\n",
              "      }\n",
              "      const div = document.createElement('div');\n",
              "      const label = document.createElement('label');\n",
              "      label.textContent = `Downloading \"${filename}\": `;\n",
              "      div.appendChild(label);\n",
              "      const progress = document.createElement('progress');\n",
              "      progress.max = size;\n",
              "      div.appendChild(progress);\n",
              "      document.body.appendChild(div);\n",
              "\n",
              "      const buffers = [];\n",
              "      let downloaded = 0;\n",
              "\n",
              "      const channel = await google.colab.kernel.comms.open(id);\n",
              "      // Send a message to notify the kernel that we're ready.\n",
              "      channel.send({})\n",
              "\n",
              "      for await (const message of channel.messages) {\n",
              "        // Send a message to notify the kernel that we're ready.\n",
              "        channel.send({})\n",
              "        if (message.buffers) {\n",
              "          for (const buffer of message.buffers) {\n",
              "            buffers.push(buffer);\n",
              "            downloaded += buffer.byteLength;\n",
              "            progress.value = downloaded;\n",
              "          }\n",
              "        }\n",
              "      }\n",
              "      const blob = new Blob(buffers, {type: 'application/binary'});\n",
              "      const a = document.createElement('a');\n",
              "      a.href = window.URL.createObjectURL(blob);\n",
              "      a.download = filename;\n",
              "      div.appendChild(a);\n",
              "      a.click();\n",
              "      div.remove();\n",
              "    }\n",
              "  "
            ],
            "text/plain": [
              "<IPython.core.display.Javascript object>"
            ]
          },
          "metadata": {}
        },
        {
          "output_type": "display_data",
          "data": {
            "application/javascript": [
              "download(\"download_507fa6d5-9b49-4883-825a-48254ce8618b\", \"totalcost3.jpg\", 32047)"
            ],
            "text/plain": [
              "<IPython.core.display.Javascript object>"
            ]
          },
          "metadata": {}
        },
        {
          "output_type": "display_data",
          "data": {
            "image/png": "[encoded data removed]",
            "text/plain": [
              "<Figure size 1080x504 with 1 Axes>"
            ]
          },
          "metadata": {
            "needs_background": "light"
          }
        },
        {
          "output_type": "display_data",
          "data": {
            "application/javascript": [
              "\n",
              "    async function download(id, filename, size) {\n",
              "      if (!google.colab.kernel.accessAllowed) {\n",
              "        return;\n",
              "      }\n",
              "      const div = document.createElement('div');\n",
              "      const label = document.createElement('label');\n",
              "      label.textContent = `Downloading \"${filename}\": `;\n",
              "      div.appendChild(label);\n",
              "      const progress = document.createElement('progress');\n",
              "      progress.max = size;\n",
              "      div.appendChild(progress);\n",
              "      document.body.appendChild(div);\n",
              "\n",
              "      const buffers = [];\n",
              "      let downloaded = 0;\n",
              "\n",
              "      const channel = await google.colab.kernel.comms.open(id);\n",
              "      // Send a message to notify the kernel that we're ready.\n",
              "      channel.send({})\n",
              "\n",
              "      for await (const message of channel.messages) {\n",
              "        // Send a message to notify the kernel that we're ready.\n",
              "        channel.send({})\n",
              "        if (message.buffers) {\n",
              "          for (const buffer of message.buffers) {\n",
              "            buffers.push(buffer);\n",
              "            downloaded += buffer.byteLength;\n",
              "            progress.value = downloaded;\n",
              "          }\n",
              "        }\n",
              "      }\n",
              "      const blob = new Blob(buffers, {type: 'application/binary'});\n",
              "      const a = document.createElement('a');\n",
              "      a.href = window.URL.createObjectURL(blob);\n",
              "      a.download = filename;\n",
              "      div.appendChild(a);\n",
              "      a.click();\n",
              "      div.remove();\n",
              "    }\n",
              "  "
            ],
            "text/plain": [
              "<IPython.core.display.Javascript object>"
            ]
          },
          "metadata": {}
        },
        {
          "output_type": "display_data",
          "data": {
            "application/javascript": [
              "download(\"download_d54fb7aa-e578-4eb1-87d2-a91e77afa837\", \"totalcost4.jpg\", 35021)"
            ],
            "text/plain": [
              "<IPython.core.display.Javascript object>"
            ]
          },
          "metadata": {}
        },
        {
          "output_type": "display_data",
          "data": {
            "image/png": "[encoded data removed]",
            "text/plain": [
              "<Figure size 1080x504 with 1 Axes>"
            ]
          },
          "metadata": {
            "needs_background": "light"
          }
        },
        {
          "output_type": "display_data",
          "data": {
            "application/javascript": [
              "\n",
              "    async function download(id, filename, size) {\n",
              "      if (!google.colab.kernel.accessAllowed) {\n",
              "        return;\n",
              "      }\n",
              "      const div = document.createElement('div');\n",
              "      const label = document.createElement('label');\n",
              "      label.textContent = `Downloading \"${filename}\": `;\n",
              "      div.appendChild(label);\n",
              "      const progress = document.createElement('progress');\n",
              "      progress.max = size;\n",
              "      div.appendChild(progress);\n",
              "      document.body.appendChild(div);\n",
              "\n",
              "      const buffers = [];\n",
              "      let downloaded = 0;\n",
              "\n",
              "      const channel = await google.colab.kernel.comms.open(id);\n",
              "      // Send a message to notify the kernel that we're ready.\n",
              "      channel.send({})\n",
              "\n",
              "      for await (const message of channel.messages) {\n",
              "        // Send a message to notify the kernel that we're ready.\n",
              "        channel.send({})\n",
              "        if (message.buffers) {\n",
              "          for (const buffer of message.buffers) {\n",
              "            buffers.push(buffer);\n",
              "            downloaded += buffer.byteLength;\n",
              "            progress.value = downloaded;\n",
              "          }\n",
              "        }\n",
              "      }\n",
              "      const blob = new Blob(buffers, {type: 'application/binary'});\n",
              "      const a = document.createElement('a');\n",
              "      a.href = window.URL.createObjectURL(blob);\n",
              "      a.download = filename;\n",
              "      div.appendChild(a);\n",
              "      a.click();\n",
              "      div.remove();\n",
              "    }\n",
              "  "
            ],
            "text/plain": [
              "<IPython.core.display.Javascript object>"
            ]
          },
          "metadata": {}
        },
        {
          "output_type": "display_data",
          "data": {
            "application/javascript": [
              "download(\"download_7267792b-42d8-4516-9a8e-7fee3cfdb1b9\", \"totalcost5.jpg\", 30709)"
            ],
            "text/plain": [
              "<IPython.core.display.Javascript object>"
            ]
          },
          "metadata": {}
        },
        {
          "output_type": "display_data",
          "data": {
            "image/png": "[encoded data removed]",
            "text/plain": [
              "<Figure size 1080x504 with 1 Axes>"
            ]
          },
          "metadata": {
            "needs_background": "light"
          }
        },
        {
          "output_type": "display_data",
          "data": {
            "application/javascript": [
              "\n",
              "    async function download(id, filename, size) {\n",
              "      if (!google.colab.kernel.accessAllowed) {\n",
              "        return;\n",
              "      }\n",
              "      const div = document.createElement('div');\n",
              "      const label = document.createElement('label');\n",
              "      label.textContent = `Downloading \"${filename}\": `;\n",
              "      div.appendChild(label);\n",
              "      const progress = document.createElement('progress');\n",
              "      progress.max = size;\n",
              "      div.appendChild(progress);\n",
              "      document.body.appendChild(div);\n",
              "\n",
              "      const buffers = [];\n",
              "      let downloaded = 0;\n",
              "\n",
              "      const channel = await google.colab.kernel.comms.open(id);\n",
              "      // Send a message to notify the kernel that we're ready.\n",
              "      channel.send({})\n",
              "\n",
              "      for await (const message of channel.messages) {\n",
              "        // Send a message to notify the kernel that we're ready.\n",
              "        channel.send({})\n",
              "        if (message.buffers) {\n",
              "          for (const buffer of message.buffers) {\n",
              "            buffers.push(buffer);\n",
              "            downloaded += buffer.byteLength;\n",
              "            progress.value = downloaded;\n",
              "          }\n",
              "        }\n",
              "      }\n",
              "      const blob = new Blob(buffers, {type: 'application/binary'});\n",
              "      const a = document.createElement('a');\n",
              "      a.href = window.URL.createObjectURL(blob);\n",
              "      a.download = filename;\n",
              "      div.appendChild(a);\n",
              "      a.click();\n",
              "      div.remove();\n",
              "    }\n",
              "  "
            ],
            "text/plain": [
              "<IPython.core.display.Javascript object>"
            ]
          },
          "metadata": {}
        },
        {
          "output_type": "display_data",
          "data": {
            "application/javascript": [
              "download(\"download_906501c2-c524-49ac-9c1f-f6892ca319a8\", \"totalcost6.jpg\", 31622)"
            ],
            "text/plain": [
              "<IPython.core.display.Javascript object>"
            ]
          },
          "metadata": {}
        },
        {
          "output_type": "display_data",
          "data": {
            "image/png": "[encoded data removed]",
            "text/plain": [
              "<Figure size 1080x504 with 1 Axes>"
            ]
          },
          "metadata": {
            "needs_background": "light"
          }
        },
        {
          "output_type": "display_data",
          "data": {
            "application/javascript": [
              "\n",
              "    async function download(id, filename, size) {\n",
              "      if (!google.colab.kernel.accessAllowed) {\n",
              "        return;\n",
              "      }\n",
              "      const div = document.createElement('div');\n",
              "      const label = document.createElement('label');\n",
              "      label.textContent = `Downloading \"${filename}\": `;\n",
              "      div.appendChild(label);\n",
              "      const progress = document.createElement('progress');\n",
              "      progress.max = size;\n",
              "      div.appendChild(progress);\n",
              "      document.body.appendChild(div);\n",
              "\n",
              "      const buffers = [];\n",
              "      let downloaded = 0;\n",
              "\n",
              "      const channel = await google.colab.kernel.comms.open(id);\n",
              "      // Send a message to notify the kernel that we're ready.\n",
              "      channel.send({})\n",
              "\n",
              "      for await (const message of channel.messages) {\n",
              "        // Send a message to notify the kernel that we're ready.\n",
              "        channel.send({})\n",
              "        if (message.buffers) {\n",
              "          for (const buffer of message.buffers) {\n",
              "            buffers.push(buffer);\n",
              "            downloaded += buffer.byteLength;\n",
              "            progress.value = downloaded;\n",
              "          }\n",
              "        }\n",
              "      }\n",
              "      const blob = new Blob(buffers, {type: 'application/binary'});\n",
              "      const a = document.createElement('a');\n",
              "      a.href = window.URL.createObjectURL(blob);\n",
              "      a.download = filename;\n",
              "      div.appendChild(a);\n",
              "      a.click();\n",
              "      div.remove();\n",
              "    }\n",
              "  "
            ],
            "text/plain": [
              "<IPython.core.display.Javascript object>"
            ]
          },
          "metadata": {}
        },
        {
          "output_type": "display_data",
          "data": {
            "application/javascript": [
              "download(\"download_9759ea98-0d08-4641-8163-ae30f35276d9\", \"totalcost7.jpg\", 31814)"
            ],
            "text/plain": [
              "<IPython.core.display.Javascript object>"
            ]
          },
          "metadata": {}
        }
      ]
    }
  ]
}